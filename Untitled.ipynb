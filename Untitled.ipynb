{
 "cells": [
  {
   "cell_type": "code",
   "execution_count": 2,
   "id": "38867b94-857a-44a5-8775-416017c8bb37",
   "metadata": {},
   "outputs": [],
   "source": [
    "import pandas as pd\n",
    "import os "
   ]
  },
  {
   "cell_type": "code",
   "execution_count": 6,
   "id": "b2b6a1ee-cd24-417a-9cd4-2df3ab87f3ea",
   "metadata": {},
   "outputs": [
    {
     "data": {
      "text/html": [
       "<div>\n",
       "<style scoped>\n",
       "    .dataframe tbody tr th:only-of-type {\n",
       "        vertical-align: middle;\n",
       "    }\n",
       "\n",
       "    .dataframe tbody tr th {\n",
       "        vertical-align: top;\n",
       "    }\n",
       "\n",
       "    .dataframe thead th {\n",
       "        text-align: right;\n",
       "    }\n",
       "</style>\n",
       "<table border=\"1\" class=\"dataframe\">\n",
       "  <thead>\n",
       "    <tr style=\"text-align: right;\">\n",
       "      <th></th>\n",
       "      <th>bankAccount</th>\n",
       "      <th>heldQuality</th>\n",
       "      <th>totalIncome</th>\n",
       "    </tr>\n",
       "  </thead>\n",
       "  <tbody>\n",
       "    <tr>\n",
       "      <th>count</th>\n",
       "      <td>819.000000</td>\n",
       "      <td>8.190000e+02</td>\n",
       "      <td>819.000000</td>\n",
       "    </tr>\n",
       "    <tr>\n",
       "      <th>mean</th>\n",
       "      <td>962.701385</td>\n",
       "      <td>5.574503e-03</td>\n",
       "      <td>22.289343</td>\n",
       "    </tr>\n",
       "    <tr>\n",
       "      <th>std</th>\n",
       "      <td>523.189204</td>\n",
       "      <td>6.929263e-03</td>\n",
       "      <td>51.413975</td>\n",
       "    </tr>\n",
       "    <tr>\n",
       "      <th>min</th>\n",
       "      <td>23.793383</td>\n",
       "      <td>3.880484e-15</td>\n",
       "      <td>-38.624310</td>\n",
       "    </tr>\n",
       "    <tr>\n",
       "      <th>25%</th>\n",
       "      <td>720.819535</td>\n",
       "      <td>1.477752e-03</td>\n",
       "      <td>0.071686</td>\n",
       "    </tr>\n",
       "    <tr>\n",
       "      <th>50%</th>\n",
       "      <td>905.077610</td>\n",
       "      <td>3.286154e-03</td>\n",
       "      <td>0.578359</td>\n",
       "    </tr>\n",
       "    <tr>\n",
       "      <th>75%</th>\n",
       "      <td>1006.505156</td>\n",
       "      <td>7.065964e-03</td>\n",
       "      <td>6.234140</td>\n",
       "    </tr>\n",
       "    <tr>\n",
       "      <th>max</th>\n",
       "      <td>3585.924963</td>\n",
       "      <td>7.460783e-02</td>\n",
       "      <td>298.181686</td>\n",
       "    </tr>\n",
       "  </tbody>\n",
       "</table>\n",
       "</div>"
      ],
      "text/plain": [
       "       bankAccount   heldQuality  totalIncome\n",
       "count   819.000000  8.190000e+02   819.000000\n",
       "mean    962.701385  5.574503e-03    22.289343\n",
       "std     523.189204  6.929263e-03    51.413975\n",
       "min      23.793383  3.880484e-15   -38.624310\n",
       "25%     720.819535  1.477752e-03     0.071686\n",
       "50%     905.077610  3.286154e-03     0.578359\n",
       "75%    1006.505156  7.065964e-03     6.234140\n",
       "max    3585.924963  7.460783e-02   298.181686"
      ]
     },
     "execution_count": 6,
     "metadata": {},
     "output_type": "execute_result"
    }
   ],
   "source": [
    "df = pd.read_csv(\"results.csv\", index_col=0)\n",
    "df.describe()"
   ]
  },
  {
   "cell_type": "code",
   "execution_count": 11,
   "id": "1dc798ab-50b1-4f99-9f5c-12c59d7d5880",
   "metadata": {},
   "outputs": [
    {
     "data": {
      "text/plain": [
       "<Axes: ylabel='Frequency'>"
      ]
     },
     "execution_count": 11,
     "metadata": {},
     "output_type": "execute_result"
    },
    {
     "data": {
      "image/png": "[encoded data removed]",
      "text/plain": [
       "<Figure size 640x480 with 1 Axes>"
      ]
     },
     "metadata": {},
     "output_type": "display_data"
    }
   ],
   "source": [
    "df['totalIncome'].plot(kind='hist', edgecolor='black',bins =60)"
   ]
  },
  {
   "cell_type": "code",
   "execution_count": null,
   "id": "633b60f7-7195-4418-84f7-6144bfe5c04f",
   "metadata": {},
   "outputs": [],
   "source": []
  }
 ],
 "metadata": {
  "kernelspec": {
   "display_name": "Python 3 (ipykernel)",
   "language": "python",
   "name": "python3"
  },
  "language_info": {
   "codemirror_mode": {
    "name": "ipython",
    "version": 3
   },
   "file_extension": ".py",
   "mimetype": "text/x-python",
   "name": "python",
   "nbconvert_exporter": "python",
   "pygments_lexer": "ipython3",
   "version": "3.10.12"
  }
 },
 "nbformat": 4,
 "nbformat_minor": 5
}
